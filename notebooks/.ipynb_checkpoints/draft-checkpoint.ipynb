{
 "cells": [
  {
   "cell_type": "markdown",
   "id": "3a7e2410-4764-461e-a0fd-9c63cc110e19",
   "metadata": {
    "tags": []
   },
   "source": [
    "https://www.pluralsight.com/guides/implement-hyperparameter-tuning-for-tensorflow2.0"
   ]
  },
  {
   "cell_type": "code",
   "execution_count": 3,
   "id": "2ae4e98a-2acc-47d6-8b31-8db43b5dd65f",
   "metadata": {},
   "outputs": [],
   "source": [
    "import tensorflow as tf\n",
    "from tensorflow.keras.applications.vgg16 import VGG16\n",
    "from tensorflow.keras.preprocessing import image\n",
    "from tensorflow.keras.applications.vgg16 import preprocess_input, decode_predictions\n",
    "import numpy as np\n",
    "from tqdm import tqdm\n",
    "import glob\n",
    "import numpy as np\n",
    "import os\n",
    "import shutil\n",
    "import glob\n",
    "from sklearn.model_selection import train_test_split\n",
    "from sklearn.preprocessing import LabelEncoder\n",
    "import pickle\n",
    "\n",
    "np.random.seed(42)\n",
    "import matplotlib.pyplot as plt\n",
    "from tensorflow.keras.preprocessing.image import ImageDataGenerator, load_img, img_to_array, array_to_img\n",
    "from tensorflow.keras.layers import Conv2D, MaxPooling2D, Flatten, Dense, Dropout\n",
    "from tensorflow.keras.models import Sequential\n",
    "from tensorflow.keras import optimizers\n",
    "\n",
    "from keras.applications import vgg16\n",
    "from keras.models import Model\n",
    "import keras\n",
    "import pandas as pd\n",
    "\n",
    "\n",
    "from keras.layers import Conv2D, MaxPooling2D, Flatten, Dense, Dropout, InputLayer\n",
    "from keras.models import Sequential\n",
    "from tensorflow.keras import optimizers\n",
    "\n",
    "import glob\n",
    "import numpy as np\n",
    "import matplotlib.pyplot as plt\n",
    "from keras.preprocessing.image import load_img, img_to_array, array_to_img\n",
    "from keras.models import load_model\n",
    "import os\n",
    "\n",
    "os.chdir('/data/kanferg/Images/Pex_project/Transfer_learning/code')\n",
    "from utils import Taining_data_orgenizer as orgenizer \n",
    "from utils import model_builder as mb"
   ]
  },
  {
   "cell_type": "code",
   "execution_count": 5,
   "id": "fb7c3a31-44a3-45f5-b284-d13df97121e4",
   "metadata": {},
   "outputs": [],
   "source": [
    "import tensorflow as tf\n",
    "from tensorboard.plugins.hparams import api as hp"
   ]
  },
  {
   "cell_type": "code",
   "execution_count": 33,
   "id": "33bf1911-3d2c-429c-85c7-4d4292ffcfe7",
   "metadata": {},
   "outputs": [
    {
     "data": {
      "text/plain": [
       "array([5, 0, 4, ..., 5, 6, 8], dtype=uint8)"
      ]
     },
     "execution_count": 33,
     "metadata": {},
     "output_type": "execute_result"
    }
   ],
   "source": [
    "mnist = tf.keras.datasets.mnist\n",
    "\n",
    "(x_train, y_train),(x_test, y_test) = mnist.load_data()\n",
    "y_train"
   ]
  },
  {
   "cell_type": "code",
   "execution_count": 6,
   "id": "c3574023-3ade-40e8-ac6c-a96857db79ce",
   "metadata": {
    "tags": []
   },
   "outputs": [
    {
     "name": "stdout",
     "output_type": "stream",
     "text": [
      "run training\n"
     ]
    },
    {
     "name": "stderr",
     "output_type": "stream",
     "text": [
      "100%|█████████████████████████████████████████████████████████████████████████████████████████████████████████████| 1000/1000 [00:30<00:00, 32.84it/s]\n"
     ]
    },
    {
     "name": "stdout",
     "output_type": "stream",
     "text": [
      "run valadtion\n"
     ]
    },
    {
     "name": "stderr",
     "output_type": "stream",
     "text": [
      "100%|███████████████████████████████████████████████████████████████████████████████████████████████████████████████| 200/200 [00:06<00:00, 32.01it/s]\n"
     ]
    }
   ],
   "source": [
    "path_input = '/data/kanferg/Images/Pex_project/SIngle_cell_images_training_set/input_sc_mix'\n",
    "path_origen = '/data/kanferg/Images/Pex_project/SIngle_cell_images_training_set'\n",
    "\n",
    "train_dir = os.path.join(path_origen, 'training_data')\n",
    "val_dir = os.path.join(path_origen, 'validation_data')\n",
    "test_dir = os.path.join(path_origen, 'test_data')\n",
    "\n",
    "'''\n",
    "batch size, epochs, steps_per_epoch_sel, validation_steps \n",
    "'''\n",
    "# batch  = 30\n",
    "# epoch  = 100\n",
    "# step_per_epoch = int((9930)/30)\n",
    "# validation_steps = int((1242)/30)\n",
    "# path_model = '/data/kanferg/Images/Pex_project/Transfer_learning/models'\n",
    "# # extract_size_train = 1000\n",
    "# # extract_size_val = 200\n",
    "# IMG_DIM=(150,150,3)\n",
    "# imbalance_train = 921\n",
    "# imbalance_val = 115\n",
    "\n",
    "\n",
    "batch  = 30\n",
    "epoch  = 100\n",
    "step_per_epoch = 32\n",
    "validation_steps = 10\n",
    "path_model = '/data/kanferg/Images/Pex_project/Transfer_learning/models'\n",
    "extract_size_train = 1000\n",
    "extract_size_val = 200\n",
    "IMG_DIM=(150,150,3)\n",
    "imbalance_train = 921\n",
    "imbalance_val = 115\n",
    "\n",
    "\n",
    "\n",
    "'''\n",
    "load image files (1000 for training and 200  for validation)\n",
    "'''\n",
    "\n",
    "model_build = mb.model_builder(IMG_DIM=(150,150,3),path_training=train_dir,path_validation=val_dir,\n",
    "                 batch=batch, epoch = epoch,input_shape = (150,150,3) ,steps_per_epoch_sel= step_per_epoch,\n",
    "                 validation_steps=validation_steps,path_model = path_model,file_extention = 'png',\n",
    "                 imbalance_train = imbalance_train, imbalance_val = imbalance_val,extract_size_train=extract_size_train,extract_size_val=extract_size_val)\n",
    "train_imgs_scaled, validation_imgs_scaled,train_labels_enc,validation_labels_enc,train_imgs,validation_imgs,report = model_build.build_image__sets()"
   ]
  },
  {
   "cell_type": "code",
   "execution_count": 7,
   "id": "6d549c9e-8476-414f-9504-63dd679566d4",
   "metadata": {},
   "outputs": [
    {
     "name": "stdout",
     "output_type": "stream",
     "text": [
      "train length 1000  val length 200\n"
     ]
    }
   ],
   "source": [
    "x_train = train_imgs_scaled\n",
    "y_train = train_labels_enc\n",
    "x_test  = validation_imgs_scaled\n",
    "y_test = validation_labels_enc\n",
    "print('train length {}  val length {}'.format(len(y_train),len(y_test)))"
   ]
  },
  {
   "cell_type": "code",
   "execution_count": 20,
   "id": "b8b10523-95ee-4613-8312-407cbff28c3f",
   "metadata": {},
   "outputs": [],
   "source": [
    "HP_NUM_UNITS = hp.HParam('num_units', hp.Discrete([256, 512]))\n",
    "HP_DROPOUT = hp.HParam('dropout', hp.RealInterval(0.5, 0.6))\n",
    "HP_OPTIMIZER = hp.HParam('optimizer', hp.Discrete(['adam','sgd','rmsprop']))\n",
    "HP_L2 = hp.HParam('l2 regularizer', hp.RealInterval(.001,.01))\n",
    "\n",
    "METRIC_ACCURACY = ['accuracy']\n",
    "\n",
    "with tf.summary.create_file_writer('logs2/hparam_tuning').as_default():\n",
    "  hp.hparams_config(\n",
    "    hparams=[HP_NUM_UNITS, HP_DROPOUT, HP_OPTIMIZER,HP_L2],\n",
    "    metrics=[hp.Metric(METRIC_ACCURACY[0], display_name=METRIC_ACCURACY[0])])"
   ]
  },
  {
   "cell_type": "code",
   "execution_count": 21,
   "id": "b459c0a7-1576-425f-a15b-5d3522a56505",
   "metadata": {},
   "outputs": [],
   "source": [
    "#VGG16\n",
    "def train_test_model(hparams):\n",
    "    model = tf.keras.models.Sequential([\n",
    "        tf.keras.layers.Conv2D(input_shape=(150,150,3),filters=64,kernel_size=(3,3),padding=\"same\", activation=\"relu\"),\n",
    "        tf.keras.layers.Conv2D(filters=64,kernel_size=(3,3),padding=\"same\", activation=\"relu\"),\n",
    "        tf.keras.layers.MaxPool2D(pool_size=(2,2),strides=(2,2)),\n",
    "        tf.keras.layers.Conv2D(filters=128, kernel_size=(3,3), padding=\"same\", activation=\"relu\"),\n",
    "        tf.keras.layers.Conv2D(filters=128, kernel_size=(3,3), padding=\"same\", activation=\"relu\"),\n",
    "        tf.keras.layers.MaxPool2D(pool_size=(2,2),strides=(2,2)),\n",
    "        tf.keras.layers.Conv2D(filters=256, kernel_size=(3,3), padding=\"same\", activation=\"relu\"),\n",
    "        tf.keras.layers.Conv2D(filters=256, kernel_size=(3,3), padding=\"same\", activation=\"relu\"),\n",
    "        tf.keras.layers.Conv2D(filters=256, kernel_size=(3,3), padding=\"same\", activation=\"relu\"),\n",
    "        tf.keras.layers.MaxPool2D(pool_size=(2,2),strides=(2,2)),\n",
    "        tf.keras.layers.Conv2D(filters=512, kernel_size=(3,3), padding=\"same\", activation=\"relu\"),\n",
    "        tf.keras.layers.Conv2D(filters=512, kernel_size=(3,3), padding=\"same\", activation=\"relu\"),\n",
    "        tf.keras.layers.Conv2D(filters=512, kernel_size=(3,3), padding=\"same\", activation=\"relu\"),\n",
    "        tf.keras.layers.MaxPool2D(pool_size=(2,2),strides=(2,2)),\n",
    "        tf.keras.layers.Flatten(),\n",
    "        tf.keras.layers.Dense(hparams[HP_NUM_UNITS], kernel_regularizer=tf.keras.regularizers.l2(0.001), activation=tf.nn.relu),\n",
    "        tf.keras.layers.Dropout(hparams[HP_DROPOUT]),\n",
    "        tf.keras.layers.Dense(2, activation=tf.nn.softmax),\n",
    "    ])\n",
    "    model.compile(\n",
    "      optimizer=hparams[HP_OPTIMIZER],\n",
    "      loss='sparse_categorical_crossentropy',\n",
    "      metrics=METRIC_ACCURACY,\n",
    "    )\n",
    "\n",
    "    model.fit(x_train, y_train, epochs=2) \n",
    "    _, accuracy = model.evaluate(x_test, y_test)\n",
    "    return accuracy"
   ]
  },
  {
   "cell_type": "code",
   "execution_count": 34,
   "id": "e4b00d3a-a7a3-485a-800a-8d4a8c6c5770",
   "metadata": {},
   "outputs": [],
   "source": [
    "def run(run_dir, hparams):\n",
    "  with tf.summary.create_file_writer(run_dir).as_default():\n",
    "    hp.hparams(hparams)  # record the values used in this trial\n",
    "    accuracy = train_test_model(hparams)\n",
    "    tf.summary.scalar(METRIC_ACCURACY[0], accuracy, step=2)"
   ]
  },
  {
   "cell_type": "code",
   "execution_count": 35,
   "id": "60ade3d7-58fc-403b-86db-75777d4753cc",
   "metadata": {},
   "outputs": [
    {
     "name": "stdout",
     "output_type": "stream",
     "text": [
      "--- Starting trial: run-0\n",
      "{'num_units': 256, 'dropout': 0.5, 'l2 regularizer': 0.001, 'optimizer': 'adam'}\n",
      "Epoch 1/2\n",
      "32/32 [==============================] - 11s 328ms/step - loss: 0.8805 - accuracy: 0.5550\n",
      "Epoch 2/2\n",
      "32/32 [==============================] - 10s 327ms/step - loss: 0.4812 - accuracy: 0.9380\n",
      "7/7 [==============================] - 1s 94ms/step - loss: 0.2181 - accuracy: 0.9750\n",
      "--- Starting trial: run-1\n",
      "{'num_units': 256, 'dropout': 0.5, 'l2 regularizer': 0.001, 'optimizer': 'rmsprop'}\n",
      "Epoch 1/2\n",
      "32/32 [==============================] - 12s 338ms/step - loss: 35.1866 - accuracy: 0.5280\n",
      "Epoch 2/2\n",
      "32/32 [==============================] - 11s 337ms/step - loss: 0.7740 - accuracy: 0.4940\n",
      "7/7 [==============================] - 1s 95ms/step - loss: 0.7739 - accuracy: 0.4900\n",
      "--- Starting trial: run-2\n",
      "{'num_units': 256, 'dropout': 0.5, 'l2 regularizer': 0.001, 'optimizer': 'sgd'}\n",
      "Epoch 1/2\n",
      "32/32 [==============================] - 12s 338ms/step - loss: 1.2008 - accuracy: 0.5480\n",
      "Epoch 2/2\n",
      "32/32 [==============================] - 11s 338ms/step - loss: 1.1989 - accuracy: 0.5930\n",
      "7/7 [==============================] - 1s 96ms/step - loss: 1.1964 - accuracy: 0.9450\n",
      "--- Starting trial: run-3\n",
      "{'num_units': 256, 'dropout': 0.5, 'l2 regularizer': 0.01, 'optimizer': 'adam'}\n",
      "Epoch 1/2\n",
      "32/32 [==============================] - 12s 331ms/step - loss: 0.6967 - accuracy: 0.7040\n",
      "Epoch 2/2\n",
      "32/32 [==============================] - 11s 332ms/step - loss: 0.3481 - accuracy: 0.9530\n",
      "7/7 [==============================] - 1s 93ms/step - loss: 0.1493 - accuracy: 0.9750\n",
      "--- Starting trial: run-4\n",
      "{'num_units': 256, 'dropout': 0.5, 'l2 regularizer': 0.01, 'optimizer': 'rmsprop'}\n",
      "Epoch 1/2\n",
      "32/32 [==============================] - 12s 341ms/step - loss: 30.1924 - accuracy: 0.5090\n",
      "Epoch 2/2\n",
      "32/32 [==============================] - 11s 341ms/step - loss: 0.7837 - accuracy: 0.5150\n",
      "7/7 [==============================] - 1s 96ms/step - loss: 2.5415 - accuracy: 0.4900\n",
      "--- Starting trial: run-5\n",
      "{'num_units': 256, 'dropout': 0.5, 'l2 regularizer': 0.01, 'optimizer': 'sgd'}\n",
      "Epoch 1/2\n",
      "32/32 [==============================] - 12s 341ms/step - loss: 1.2004 - accuracy: 0.5800\n",
      "Epoch 2/2\n",
      "32/32 [==============================] - 11s 341ms/step - loss: 1.1953 - accuracy: 0.7240\n",
      "7/7 [==============================] - 1s 97ms/step - loss: 1.1926 - accuracy: 0.4950\n",
      "--- Starting trial: run-6\n",
      "{'num_units': 256, 'dropout': 0.6, 'l2 regularizer': 0.001, 'optimizer': 'adam'}\n",
      "Epoch 1/2\n",
      "32/32 [==============================] - 12s 336ms/step - loss: 0.8164 - accuracy: 0.7420\n",
      "Epoch 2/2\n",
      "32/32 [==============================] - 11s 334ms/step - loss: 0.3138 - accuracy: 0.9570\n",
      "7/7 [==============================] - 1s 95ms/step - loss: 0.1632 - accuracy: 0.9850\n",
      "--- Starting trial: run-7\n",
      "{'num_units': 256, 'dropout': 0.6, 'l2 regularizer': 0.001, 'optimizer': 'rmsprop'}\n",
      "Epoch 1/2\n",
      "32/32 [==============================] - 12s 343ms/step - loss: 35.7915 - accuracy: 0.5270\n",
      "Epoch 2/2\n",
      "32/32 [==============================] - 11s 343ms/step - loss: 2.1369 - accuracy: 0.5530\n",
      "7/7 [==============================] - 1s 96ms/step - loss: 0.7762 - accuracy: 0.8600\n",
      "--- Starting trial: run-8\n",
      "{'num_units': 256, 'dropout': 0.6, 'l2 regularizer': 0.001, 'optimizer': 'sgd'}\n",
      "Epoch 1/2\n",
      "32/32 [==============================] - 12s 341ms/step - loss: 1.2008 - accuracy: 0.5530\n",
      "Epoch 2/2\n",
      "32/32 [==============================] - 11s 342ms/step - loss: 1.1975 - accuracy: 0.7000\n",
      "7/7 [==============================] - 1s 98ms/step - loss: 1.1949 - accuracy: 0.5100\n",
      "--- Starting trial: run-9\n",
      "{'num_units': 256, 'dropout': 0.6, 'l2 regularizer': 0.01, 'optimizer': 'adam'}\n",
      "Epoch 1/2\n",
      "32/32 [==============================] - 12s 336ms/step - loss: 0.7537 - accuracy: 0.7670\n",
      "Epoch 2/2\n",
      "32/32 [==============================] - 11s 333ms/step - loss: 0.3235 - accuracy: 0.9280\n",
      "7/7 [==============================] - 1s 95ms/step - loss: 0.1589 - accuracy: 0.9800\n",
      "--- Starting trial: run-10\n",
      "{'num_units': 256, 'dropout': 0.6, 'l2 regularizer': 0.01, 'optimizer': 'rmsprop'}\n",
      "Epoch 1/2\n",
      "32/32 [==============================] - 12s 344ms/step - loss: 29.1658 - accuracy: 0.5330\n",
      "Epoch 2/2\n",
      "32/32 [==============================] - 11s 343ms/step - loss: 2.6507 - accuracy: 0.6020\n",
      "7/7 [==============================] - 1s 95ms/step - loss: 0.7883 - accuracy: 0.4900\n",
      "--- Starting trial: run-11\n",
      "{'num_units': 256, 'dropout': 0.6, 'l2 regularizer': 0.01, 'optimizer': 'sgd'}\n",
      "Epoch 1/2\n",
      "32/32 [==============================] - 12s 341ms/step - loss: 1.2003 - accuracy: 0.6140\n",
      "Epoch 2/2\n",
      "32/32 [==============================] - 11s 342ms/step - loss: 1.1954 - accuracy: 0.7140\n",
      "7/7 [==============================] - 1s 98ms/step - loss: 1.1922 - accuracy: 0.5050\n",
      "--- Starting trial: run-12\n",
      "{'num_units': 512, 'dropout': 0.5, 'l2 regularizer': 0.001, 'optimizer': 'adam'}\n",
      "Epoch 1/2\n",
      "32/32 [==============================] - 12s 342ms/step - loss: 1.0742 - accuracy: 0.5090\n",
      "Epoch 2/2\n",
      "32/32 [==============================] - 11s 340ms/step - loss: 0.7920 - accuracy: 0.6290\n",
      "7/7 [==============================] - 1s 97ms/step - loss: 0.1997 - accuracy: 0.9850\n",
      "--- Starting trial: run-13\n",
      "{'num_units': 512, 'dropout': 0.5, 'l2 regularizer': 0.001, 'optimizer': 'rmsprop'}\n",
      "Epoch 1/2\n",
      "32/32 [==============================] - 13s 354ms/step - loss: 34.7158 - accuracy: 0.5120\n",
      "Epoch 2/2\n",
      "32/32 [==============================] - 11s 354ms/step - loss: 1.0951 - accuracy: 0.5370\n",
      "7/7 [==============================] - 1s 98ms/step - loss: 12.2777 - accuracy: 0.5100\n",
      "--- Starting trial: run-14\n",
      "{'num_units': 512, 'dropout': 0.5, 'l2 regularizer': 0.001, 'optimizer': 'sgd'}\n",
      "Epoch 1/2\n",
      "32/32 [==============================] - 12s 348ms/step - loss: 1.7022 - accuracy: 0.5510\n",
      "Epoch 2/2\n",
      "32/32 [==============================] - 11s 348ms/step - loss: 1.6934 - accuracy: 0.7060\n",
      "7/7 [==============================] - 1s 99ms/step - loss: 1.6882 - accuracy: 0.5850\n",
      "--- Starting trial: run-15\n",
      "{'num_units': 512, 'dropout': 0.5, 'l2 regularizer': 0.01, 'optimizer': 'adam'}\n",
      "Epoch 1/2\n",
      "32/32 [==============================] - 12s 343ms/step - loss: 1.0535 - accuracy: 0.4830\n",
      "Epoch 2/2\n",
      "32/32 [==============================] - 11s 342ms/step - loss: 2.4896 - accuracy: 0.7760\n",
      "7/7 [==============================] - 1s 97ms/step - loss: 0.6469 - accuracy: 0.7900\n",
      "--- Starting trial: run-16\n",
      "{'num_units': 512, 'dropout': 0.5, 'l2 regularizer': 0.01, 'optimizer': 'rmsprop'}\n",
      "Epoch 1/2\n",
      "32/32 [==============================] - 13s 353ms/step - loss: 9.9820 - accuracy: 0.5170\n",
      "Epoch 2/2\n",
      "32/32 [==============================] - 11s 353ms/step - loss: 0.9939 - accuracy: 0.4850\n",
      "7/7 [==============================] - 1s 98ms/step - loss: 0.8664 - accuracy: 0.4900\n",
      "--- Starting trial: run-17\n",
      "{'num_units': 512, 'dropout': 0.5, 'l2 regularizer': 0.01, 'optimizer': 'sgd'}\n",
      "Epoch 1/2\n",
      "32/32 [==============================] - 12s 349ms/step - loss: 1.7029 - accuracy: 0.5780\n",
      "Epoch 2/2\n",
      "32/32 [==============================] - 11s 348ms/step - loss: 1.6973 - accuracy: 0.7440\n",
      "7/7 [==============================] - 1s 100ms/step - loss: 1.6929 - accuracy: 0.9600\n",
      "--- Starting trial: run-18\n",
      "{'num_units': 512, 'dropout': 0.6, 'l2 regularizer': 0.001, 'optimizer': 'adam'}\n",
      "Epoch 1/2\n",
      "32/32 [==============================] - 12s 343ms/step - loss: 0.9423 - accuracy: 0.6300\n",
      "Epoch 2/2\n",
      "32/32 [==============================] - 11s 340ms/step - loss: 0.3810 - accuracy: 0.9420\n",
      "7/7 [==============================] - 1s 96ms/step - loss: 0.1879 - accuracy: 0.9750\n",
      "--- Starting trial: run-19\n",
      "{'num_units': 512, 'dropout': 0.6, 'l2 regularizer': 0.001, 'optimizer': 'rmsprop'}\n",
      "Epoch 1/2\n",
      "32/32 [==============================] - 13s 354ms/step - loss: 5.6864 - accuracy: 0.5330\n",
      "Epoch 2/2\n",
      "32/32 [==============================] - 11s 354ms/step - loss: 1.4351 - accuracy: 0.5830\n",
      "7/7 [==============================] - 1s 98ms/step - loss: 0.4381 - accuracy: 0.9750\n",
      "--- Starting trial: run-20\n",
      "{'num_units': 512, 'dropout': 0.6, 'l2 regularizer': 0.001, 'optimizer': 'sgd'}\n",
      "Epoch 1/2\n",
      "32/32 [==============================] - 12s 349ms/step - loss: 1.7022 - accuracy: 0.5790\n",
      "Epoch 2/2\n",
      "32/32 [==============================] - 11s 348ms/step - loss: 1.6933 - accuracy: 0.8310\n",
      "7/7 [==============================] - 1s 99ms/step - loss: 1.6856 - accuracy: 0.6050\n",
      "--- Starting trial: run-21\n",
      "{'num_units': 512, 'dropout': 0.6, 'l2 regularizer': 0.01, 'optimizer': 'adam'}\n",
      "Epoch 1/2\n",
      "32/32 [==============================] - 12s 342ms/step - loss: 1.0209 - accuracy: 0.4940\n",
      "Epoch 2/2\n",
      "32/32 [==============================] - 11s 340ms/step - loss: 0.6932 - accuracy: 0.6390\n",
      "7/7 [==============================] - 1s 97ms/step - loss: 0.5607 - accuracy: 0.8850\n",
      "--- Starting trial: run-22\n",
      "{'num_units': 512, 'dropout': 0.6, 'l2 regularizer': 0.01, 'optimizer': 'rmsprop'}\n",
      "Epoch 1/2\n",
      "32/32 [==============================] - 13s 355ms/step - loss: 5.5927 - accuracy: 0.5380\n",
      "Epoch 2/2\n",
      "32/32 [==============================] - 11s 354ms/step - loss: 8.3620 - accuracy: 0.7490\n",
      "7/7 [==============================] - 1s 98ms/step - loss: 0.6218 - accuracy: 0.8800\n",
      "--- Starting trial: run-23\n",
      "{'num_units': 512, 'dropout': 0.6, 'l2 regularizer': 0.01, 'optimizer': 'sgd'}\n",
      "Epoch 1/2\n",
      "32/32 [==============================] - 12s 348ms/step - loss: 1.7016 - accuracy: 0.5830\n",
      "Epoch 2/2\n",
      "32/32 [==============================] - 11s 349ms/step - loss: 1.6920 - accuracy: 0.7640\n",
      "7/7 [==============================] - 1s 99ms/step - loss: 1.6841 - accuracy: 0.7650\n"
     ]
    }
   ],
   "source": [
    "session_num = 0\n",
    "\n",
    "for num_units in HP_NUM_UNITS.domain.values:\n",
    "  for dropout_rate in (HP_DROPOUT.domain.min_value, HP_DROPOUT.domain.max_value):\n",
    "    for l2 in (HP_L2.domain.min_value, HP_L2.domain.max_value):\n",
    "      for optimizer in HP_OPTIMIZER.domain.values:\n",
    "        hparams = {\n",
    "            HP_NUM_UNITS: num_units,\n",
    "            HP_DROPOUT: dropout_rate,\n",
    "            HP_L2: l2,\n",
    "            HP_OPTIMIZER: optimizer,\n",
    "        }\n",
    "        run_name = \"run-%d\" % session_num\n",
    "        print('--- Starting trial: %s' % run_name)\n",
    "        print({h.name: hparams[h] for h in hparams})\n",
    "        run('logs2/hparam_tuning/' + run_name, hparams)\n",
    "        session_num += 1"
   ]
  },
  {
   "cell_type": "code",
   "execution_count": 24,
   "id": "ce534a5c-5bbc-4e5b-8b48-84c0384ec4bd",
   "metadata": {},
   "outputs": [
    {
     "data": {
      "text/plain": [
       "'/gpfs/gsfs10/users/kanferg/Images/Pex_project/Transfer_learning/code'"
      ]
     },
     "execution_count": 24,
     "metadata": {},
     "output_type": "execute_result"
    }
   ],
   "source": [
    "os.getcwd()"
   ]
  },
  {
   "cell_type": "code",
   "execution_count": 26,
   "id": "838e701e-2bbc-459f-816f-bb587b5a9799",
   "metadata": {},
   "outputs": [],
   "source": [
    "\"run-%d\" % session_num\n",
    "session_num += 1"
   ]
  },
  {
   "cell_type": "code",
   "execution_count": 27,
   "id": "a1cc102c-be88-46ba-932c-b603b0716024",
   "metadata": {},
   "outputs": [
    {
     "data": {
      "text/plain": [
       "'run-1'"
      ]
     },
     "execution_count": 27,
     "metadata": {},
     "output_type": "execute_result"
    }
   ],
   "source": [
    "\"run-%d\" % session_num"
   ]
  },
  {
   "cell_type": "code",
   "execution_count": 28,
   "id": "7ee05d3b-c558-4c58-ac48-4529803b0c37",
   "metadata": {},
   "outputs": [
    {
     "data": {
      "text/plain": [
       "{HParam(name='num_units', domain=Discrete([256, 512]), display_name=None, description=None): 256,\n",
       " HParam(name='dropout', domain=RealInterval(0.5, 0.6), display_name=None, description=None): 0.5,\n",
       " HParam(name='l2 regularizer', domain=RealInterval(0.001, 0.01), display_name=None, description=None): 0.001,\n",
       " HParam(name='optimizer', domain=Discrete(['adam', 'rmsprop', 'sgd']), display_name=None, description=None): 'adam'}"
      ]
     },
     "execution_count": 28,
     "metadata": {},
     "output_type": "execute_result"
    }
   ],
   "source": [
    "hparams"
   ]
  },
  {
   "cell_type": "code",
   "execution_count": 29,
   "id": "8f8e69b9-4cbe-46e6-b8ef-598ab1efe922",
   "metadata": {},
   "outputs": [
    {
     "data": {
      "text/plain": [
       "['accuracy']"
      ]
     },
     "execution_count": 29,
     "metadata": {},
     "output_type": "execute_result"
    }
   ],
   "source": [
    "METRIC_ACCURACY"
   ]
  },
  {
   "cell_type": "code",
   "execution_count": 30,
   "id": "292b1413-ddb9-4764-bb2b-6cdad7e8bb1b",
   "metadata": {},
   "outputs": [
    {
     "data": {
      "text/plain": [
       "<tf.Tensor: shape=(), dtype=bool, numpy=False>"
      ]
     },
     "execution_count": 30,
     "metadata": {},
     "output_type": "execute_result"
    }
   ],
   "source": [
    "hp.hparams(hparams)  # record the values used in this trial\n"
   ]
  },
  {
   "cell_type": "code",
   "execution_count": 31,
   "id": "0749c85c-15d6-4228-bf88-32cb09b849a1",
   "metadata": {},
   "outputs": [
    {
     "name": "stdout",
     "output_type": "stream",
     "text": [
      "Epoch 1/2\n",
      "32/32 [==============================] - 12s 327ms/step - loss: 0.7986 - accuracy: 0.7060\n",
      "Epoch 2/2\n",
      "32/32 [==============================] - 10s 326ms/step - loss: 0.3496 - accuracy: 0.9460\n",
      "7/7 [==============================] - 1s 93ms/step - loss: 0.1782 - accuracy: 0.9800\n"
     ]
    }
   ],
   "source": [
    "accuracy = train_test_model(hparams)\n"
   ]
  },
  {
   "cell_type": "code",
   "execution_count": 32,
   "id": "fc6affaa-de39-4130-bfe1-bc1ff2a2c9e6",
   "metadata": {},
   "outputs": [
    {
     "ename": "TypeError",
     "evalue": "expected string or bytes-like object",
     "output_type": "error",
     "traceback": [
      "\u001b[0;31m---------------------------------------------------------------------------\u001b[0m",
      "\u001b[0;31mTypeError\u001b[0m                                 Traceback (most recent call last)",
      "\u001b[0;32m/tmp/ipykernel_22225/2488541526.py\u001b[0m in \u001b[0;36m<module>\u001b[0;34m\u001b[0m\n\u001b[0;32m----> 1\u001b[0;31m \u001b[0mtf\u001b[0m\u001b[0;34m.\u001b[0m\u001b[0msummary\u001b[0m\u001b[0;34m.\u001b[0m\u001b[0mscalar\u001b[0m\u001b[0;34m(\u001b[0m\u001b[0mMETRIC_ACCURACY\u001b[0m\u001b[0;34m,\u001b[0m \u001b[0maccuracy\u001b[0m\u001b[0;34m,\u001b[0m \u001b[0mstep\u001b[0m\u001b[0;34m=\u001b[0m\u001b[0;36m2\u001b[0m\u001b[0;34m)\u001b[0m\u001b[0;34m\u001b[0m\u001b[0;34m\u001b[0m\u001b[0m\n\u001b[0m",
      "\u001b[0;32m/usr/local/Anaconda/envs/py3.7/lib/python3.7/site-packages/tensorboard/plugins/scalar/summary_v2.py\u001b[0m in \u001b[0;36mscalar\u001b[0;34m(name, data, step, description)\u001b[0m\n\u001b[1;32m     85\u001b[0m         \u001b[0;32mor\u001b[0m \u001b[0mtf\u001b[0m\u001b[0;34m.\u001b[0m\u001b[0msummary\u001b[0m\u001b[0;34m.\u001b[0m\u001b[0msummary_scope\u001b[0m\u001b[0;34m\u001b[0m\u001b[0;34m\u001b[0m\u001b[0m\n\u001b[1;32m     86\u001b[0m     )\n\u001b[0;32m---> 87\u001b[0;31m     \u001b[0;32mwith\u001b[0m \u001b[0msummary_scope\u001b[0m\u001b[0;34m(\u001b[0m\u001b[0mname\u001b[0m\u001b[0;34m,\u001b[0m \u001b[0;34m\"scalar_summary\"\u001b[0m\u001b[0;34m,\u001b[0m \u001b[0mvalues\u001b[0m\u001b[0;34m=\u001b[0m\u001b[0;34m[\u001b[0m\u001b[0mdata\u001b[0m\u001b[0;34m,\u001b[0m \u001b[0mstep\u001b[0m\u001b[0;34m]\u001b[0m\u001b[0;34m)\u001b[0m \u001b[0;32mas\u001b[0m \u001b[0;34m(\u001b[0m\u001b[0mtag\u001b[0m\u001b[0;34m,\u001b[0m \u001b[0m_\u001b[0m\u001b[0;34m)\u001b[0m\u001b[0;34m:\u001b[0m\u001b[0;34m\u001b[0m\u001b[0;34m\u001b[0m\u001b[0m\n\u001b[0m\u001b[1;32m     88\u001b[0m         \u001b[0mtf\u001b[0m\u001b[0;34m.\u001b[0m\u001b[0mdebugging\u001b[0m\u001b[0;34m.\u001b[0m\u001b[0massert_scalar\u001b[0m\u001b[0;34m(\u001b[0m\u001b[0mdata\u001b[0m\u001b[0;34m)\u001b[0m\u001b[0;34m\u001b[0m\u001b[0;34m\u001b[0m\u001b[0m\n\u001b[1;32m     89\u001b[0m         return tf.summary.write(\n",
      "\u001b[0;32m/usr/local/Anaconda/envs/py3.7/lib/python3.7/contextlib.py\u001b[0m in \u001b[0;36m__enter__\u001b[0;34m(self)\u001b[0m\n\u001b[1;32m    110\u001b[0m         \u001b[0;32mdel\u001b[0m \u001b[0mself\u001b[0m\u001b[0;34m.\u001b[0m\u001b[0margs\u001b[0m\u001b[0;34m,\u001b[0m \u001b[0mself\u001b[0m\u001b[0;34m.\u001b[0m\u001b[0mkwds\u001b[0m\u001b[0;34m,\u001b[0m \u001b[0mself\u001b[0m\u001b[0;34m.\u001b[0m\u001b[0mfunc\u001b[0m\u001b[0;34m\u001b[0m\u001b[0;34m\u001b[0m\u001b[0m\n\u001b[1;32m    111\u001b[0m         \u001b[0;32mtry\u001b[0m\u001b[0;34m:\u001b[0m\u001b[0;34m\u001b[0m\u001b[0;34m\u001b[0m\u001b[0m\n\u001b[0;32m--> 112\u001b[0;31m             \u001b[0;32mreturn\u001b[0m \u001b[0mnext\u001b[0m\u001b[0;34m(\u001b[0m\u001b[0mself\u001b[0m\u001b[0;34m.\u001b[0m\u001b[0mgen\u001b[0m\u001b[0;34m)\u001b[0m\u001b[0;34m\u001b[0m\u001b[0;34m\u001b[0m\u001b[0m\n\u001b[0m\u001b[1;32m    113\u001b[0m         \u001b[0;32mexcept\u001b[0m \u001b[0mStopIteration\u001b[0m\u001b[0;34m:\u001b[0m\u001b[0;34m\u001b[0m\u001b[0;34m\u001b[0m\u001b[0m\n\u001b[1;32m    114\u001b[0m             \u001b[0;32mraise\u001b[0m \u001b[0mRuntimeError\u001b[0m\u001b[0;34m(\u001b[0m\u001b[0;34m\"generator didn't yield\"\u001b[0m\u001b[0;34m)\u001b[0m \u001b[0;32mfrom\u001b[0m \u001b[0;32mNone\u001b[0m\u001b[0;34m\u001b[0m\u001b[0;34m\u001b[0m\u001b[0m\n",
      "\u001b[0;32m/usr/local/Anaconda/envs/py3.7/lib/python3.7/site-packages/tensorflow/python/ops/summary_ops_v2.py\u001b[0m in \u001b[0;36msummary_scope\u001b[0;34m(name, default_name, values)\u001b[0m\n\u001b[1;32m    702\u001b[0m   \u001b[0;31m# Strip illegal characters from the scope name, and if that leaves nothing,\u001b[0m\u001b[0;34m\u001b[0m\u001b[0;34m\u001b[0m\u001b[0;34m\u001b[0m\u001b[0m\n\u001b[1;32m    703\u001b[0m   \u001b[0;31m# use None instead so we pick up the default name.\u001b[0m\u001b[0;34m\u001b[0m\u001b[0;34m\u001b[0m\u001b[0;34m\u001b[0m\u001b[0m\n\u001b[0;32m--> 704\u001b[0;31m   \u001b[0mname\u001b[0m \u001b[0;34m=\u001b[0m \u001b[0m_INVALID_SCOPE_CHARACTERS\u001b[0m\u001b[0;34m.\u001b[0m\u001b[0msub\u001b[0m\u001b[0;34m(\u001b[0m\u001b[0;34m\"\"\u001b[0m\u001b[0;34m,\u001b[0m \u001b[0mname\u001b[0m\u001b[0;34m)\u001b[0m \u001b[0;32mor\u001b[0m \u001b[0;32mNone\u001b[0m\u001b[0;34m\u001b[0m\u001b[0;34m\u001b[0m\u001b[0m\n\u001b[0m\u001b[1;32m    705\u001b[0m   \u001b[0;32mwith\u001b[0m \u001b[0mops\u001b[0m\u001b[0;34m.\u001b[0m\u001b[0mname_scope\u001b[0m\u001b[0;34m(\u001b[0m\u001b[0mname\u001b[0m\u001b[0;34m,\u001b[0m \u001b[0mdefault_name\u001b[0m\u001b[0;34m,\u001b[0m \u001b[0mvalues\u001b[0m\u001b[0;34m,\u001b[0m \u001b[0mskip_on_eager\u001b[0m\u001b[0;34m=\u001b[0m\u001b[0;32mFalse\u001b[0m\u001b[0;34m)\u001b[0m \u001b[0;32mas\u001b[0m \u001b[0mscope\u001b[0m\u001b[0;34m:\u001b[0m\u001b[0;34m\u001b[0m\u001b[0;34m\u001b[0m\u001b[0m\n\u001b[1;32m    706\u001b[0m     \u001b[0;32myield\u001b[0m \u001b[0mtag\u001b[0m\u001b[0;34m,\u001b[0m \u001b[0mscope\u001b[0m\u001b[0;34m\u001b[0m\u001b[0;34m\u001b[0m\u001b[0m\n",
      "\u001b[0;31mTypeError\u001b[0m: expected string or bytes-like object"
     ]
    }
   ],
   "source": [
    "tf.summary.scalar(METRIC_ACCURACY, accuracy, step=2)"
   ]
  },
  {
   "cell_type": "code",
   "execution_count": 33,
   "id": "8323955c-6129-4456-96bc-dfd2572fdde4",
   "metadata": {},
   "outputs": [
    {
     "data": {
      "text/plain": [
       "['accuracy']"
      ]
     },
     "execution_count": 33,
     "metadata": {},
     "output_type": "execute_result"
    }
   ],
   "source": [
    "METRIC_ACCURACY"
   ]
  },
  {
   "cell_type": "code",
   "execution_count": null,
   "id": "f4c533e0-4ae7-4882-9b8a-4c2e03d0aa38",
   "metadata": {},
   "outputs": [],
   "source": []
  }
 ],
 "metadata": {
  "kernelspec": {
   "display_name": "python/3.7",
   "language": "python",
   "name": "py3.7"
  },
  "language_info": {
   "codemirror_mode": {
    "name": "ipython",
    "version": 3
   },
   "file_extension": ".py",
   "mimetype": "text/x-python",
   "name": "python",
   "nbconvert_exporter": "python",
   "pygments_lexer": "ipython3",
   "version": "3.7.12"
  }
 },
 "nbformat": 4,
 "nbformat_minor": 5
}
